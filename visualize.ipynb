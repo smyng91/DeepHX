{
 "cells": [
  {
   "cell_type": "code",
   "execution_count": 13,
   "metadata": {},
   "outputs": [],
   "source": [
    "import numpy as np\n",
    "from matplotlib import cm\n",
    "import matplotlib.pyplot as plt\n",
    "\n",
    "\n",
    "theta_h, theta_c, theta_w = np.load('solution.npy')"
   ]
  },
  {
   "cell_type": "code",
   "execution_count": 11,
   "metadata": {},
   "outputs": [
    {
     "name": "stdout",
     "output_type": "stream",
     "text": [
      "[[0.51808523 0.4530257  0.51931813 ... 0.00328028 0.00327846 0.00327671]\n",
      " [1.17026322 1.19615187 0.74402393 ... 0.00327847 0.00327671 0.003275  ]\n",
      " [1.31584138 1.20582257 0.96583923 ... 0.00327699 0.00327527 0.00327362]\n",
      " ...\n",
      " [0.99586022 0.99870557 0.98678981 ... 0.00453851 0.00455167 0.00456484]\n",
      " [1.01750915 1.0182201  0.98659371 ... 0.00450577 0.00451936 0.00453296]\n",
      " [1.04100366 1.0393179  0.98679612 ... 0.00447246 0.00448649 0.00450052]]\n"
     ]
    }
   ],
   "source": [
    "print(theta_h)"
   ]
  },
  {
   "cell_type": "code",
   "execution_count": 28,
   "metadata": {},
   "outputs": [
    {
     "name": "stdout",
     "output_type": "stream",
     "text": [
      "(200, 200)\n"
     ]
    },
    {
     "name": "stderr",
     "output_type": "stream",
     "text": [
      "<ipython-input-28-5afe58fbbf74>:8: UserWarning: The following kwargs were not used by contour: 'linewidth'\n",
      "  surf = plt.contourf(theta_h, cmap=cm.coolwarm,\n"
     ]
    },
    {
     "data": {
      "image/png": "[encoded data removed]",
      "text/plain": [
       "<Figure size 432x288 with 1 Axes>"
      ]
     },
     "metadata": {
      "needs_background": "light"
     },
     "output_type": "display_data"
    }
   ],
   "source": [
    "\n",
    "\n",
    "x = np.linspace(0, 2, 100)\n",
    "t = np.linspace(0, 10, 100)\n",
    "\n",
    "print(theta_h.shape)\n",
    "fig = plt.figure()\n",
    "surf = plt.contourf(theta_h, cmap=cm.coolwarm,\n",
    "                       linewidth=0, antialiased=False)"
   ]
  }
 ],
 "metadata": {
  "kernelspec": {
   "display_name": "Python 3",
   "language": "python",
   "name": "python3"
  },
  "language_info": {
   "codemirror_mode": {
    "name": "ipython",
    "version": 3
   },
   "file_extension": ".py",
   "mimetype": "text/x-python",
   "name": "python",
   "nbconvert_exporter": "python",
   "pygments_lexer": "ipython3",
   "version": "3.8.5"
  }
 },
 "nbformat": 4,
 "nbformat_minor": 2
}
