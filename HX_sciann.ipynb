{
 "cells": [
  {
   "cell_type": "code",
   "execution_count": 4,
   "metadata": {},
   "outputs": [
    {
     "output_type": "stream",
     "name": "stdout",
     "text": [
      "---------------------- SCIANN 0.6.0.4 ---------------------- \nFor details, check out our review paper and the documentation at: \n +  \"https://arxiv.org/abs/2005.08803\", \n +  \"https://www.sciann.com\". \n\n"
     ]
    },
    {
     "output_type": "error",
     "ename": "ModuleNotFoundError",
     "evalue": "No module named 'matplotlib'",
     "traceback": [
      "\u001b[0;31m---------------------------------------------------------------------------\u001b[0m",
      "\u001b[0;31mModuleNotFoundError\u001b[0m                       Traceback (most recent call last)",
      "\u001b[0;32m<ipython-input-4-d9c54a9b576a>\u001b[0m in \u001b[0;36m<module>\u001b[0;34m\u001b[0m\n\u001b[1;32m      1\u001b[0m \u001b[0;32mimport\u001b[0m \u001b[0mnumpy\u001b[0m \u001b[0;32mas\u001b[0m \u001b[0mnp\u001b[0m\u001b[0;34m\u001b[0m\u001b[0;34m\u001b[0m\u001b[0m\n\u001b[1;32m      2\u001b[0m \u001b[0;32mimport\u001b[0m \u001b[0msciann\u001b[0m \u001b[0;32mas\u001b[0m \u001b[0msn\u001b[0m\u001b[0;34m\u001b[0m\u001b[0;34m\u001b[0m\u001b[0m\n\u001b[0;32m----> 3\u001b[0;31m \u001b[0;32mimport\u001b[0m \u001b[0mmatplotlib\u001b[0m\u001b[0;34m.\u001b[0m\u001b[0mpyplot\u001b[0m \u001b[0;32mas\u001b[0m \u001b[0mplt\u001b[0m\u001b[0;34m\u001b[0m\u001b[0;34m\u001b[0m\u001b[0m\n\u001b[0m\u001b[1;32m      4\u001b[0m \u001b[0;32mimport\u001b[0m \u001b[0mscipy\u001b[0m\u001b[0;34m.\u001b[0m\u001b[0mio\u001b[0m\u001b[0;34m\u001b[0m\u001b[0;34m\u001b[0m\u001b[0m\n\u001b[1;32m      5\u001b[0m \u001b[0;32mfrom\u001b[0m \u001b[0msciann\u001b[0m\u001b[0;34m.\u001b[0m\u001b[0mutils\u001b[0m\u001b[0;34m.\u001b[0m\u001b[0mmath\u001b[0m \u001b[0;32mimport\u001b[0m \u001b[0mdiff\u001b[0m\u001b[0;34m,\u001b[0m \u001b[0msign\u001b[0m\u001b[0;34m,\u001b[0m \u001b[0msin\u001b[0m\u001b[0;34m\u001b[0m\u001b[0;34m\u001b[0m\u001b[0m\n",
      "\u001b[0;31mModuleNotFoundError\u001b[0m: No module named 'matplotlib'"
     ]
    }
   ],
   "source": [
    "\n",
    "import numpy as np \n",
    "import sciann as sn \n",
    "import matplotlib.pyplot as plt \n",
    "import scipy.io\n",
    "from sciann.utils.math import diff, sign, sin\n",
    "\n",
    "\n",
    "R = 0.1\n",
    "Vc = 1\n",
    "Vh = 1\n",
    "\n",
    "x = sn.Variable(\"x\", dtype='float64')\n",
    "y = sn.Variable(\"y\", dtype='float64')\n",
    "t = sn.Variable(\"t\", dtype='float64')\n",
    "\n",
    "theta_w = sn.Functional(\"theta_w\", [t], 4*[20], 'tanh')\n",
    "theta_h = sn.Functional(\"theta_h\", [x, t], 8*[20], 'tanh')\n",
    "theta_c = sn.Functional(\"theta_c\", [y, t], 8*[20], 'tanh')\n",
    "\n",
    "theta_w_t = sn.diff(theta_w, t)\n",
    "theta_h_t = sn.diff(theta_h, t); theta_h_x = sn.diff(theta_h, x); \n",
    "theta_c_t = sn.diff(theta_c, t); theta_c_y = sn.diff(theta_c, y); \n",
    "\n",
    "# define governing equations\n",
    "L1 = theta_h_t - R/Vh*(theta_w-theta_h-theta_h_x)\n",
    "L2 = theta_c_t - 1/Vc*(theta_w-theta_c-theta_c_y)\n",
    "L3 = theta_w_t - theta_c - R*theta_h + (1+R)*theta_w\n",
    "# initial conditions\n",
    "TOL = 0.001\n",
    "C1 = (1-sign(t - TOL)) * (theta_w)\n",
    "C2 = (1-sign(t - TOL)) * (theta_h)\n",
    "C3 = (1-sign(t - TOL)) * (theta_c)\n",
    "# boundary conditions\n",
    "C4 = (1-sign(x - TOL)) * (theta_h - 1.)\n",
    "C5 = (1-sign(y - TOL)) * (theta_c_y)\n",
    "C6 = (1+sign(x - ( 1-TOL))) * (theta_h_x)\n",
    "C7 = (1+sign(y - ( 1-TOL))) * (theta_c)\n",
    "\n",
    "# Define the optimization model (set of inputs and constraints)\n",
    "m = sn.SciModel([x, y, t], [L1, L2, L3, C1, C2, C3, C4, C5, C6, C7])\n",
    "x_data, y_data, t_data = np.meshgrid(\n",
    "    np.linspace(0, 1, 100), \n",
    "    np.linspace(0, 1, 100),\n",
    "    np.linspace(0, 1, 100),\n",
    ")\n",
    "\n",
    "h = m.train([x_data, y_data, t_data], 10*['zero'], \n",
    "    epochs=10000,\n",
    "    shuffle=True,\n",
    "    batch_size=100,\n",
    "    verbose=1,\n",
    "    learning_rate=1e-3,\n",
    "    reduce_lr_after=100,\n",
    "    stop_loss_value=1e-8\n",
    "    )\n",
    "\n",
    "x_test, y_test, t_test = np.meshgrid(\n",
    "    np.linspace(0, 1, 200), \n",
    "    np.linspace(0, 1, 200), \n",
    "    np.linspace(0, 1, 200)\n",
    ")\n",
    "theta_h_pred = theta_h.eval(m, [x_test, y_test, t_test])\n",
    "theta_c_pred = theta_c.eval(m, [x_test, y_test, t_test])\n",
    "theta_w_pred = theta_w.eval(m, [x_test, y_test, t_test])\n",
    "\n",
    "fig = plt.figure(figsize=(3, 4))\n",
    "plt.pcolor(x_test, t_test, theta_h_pred, cmap='seismic')\n",
    "plt.xlabel('x')\n",
    "plt.ylabel('t')\n",
    "\n",
    "plt.colorbar()\n",
    "\n",
    "# model.save_weights('trained-navier-stokes.hdf5')\n"
   ]
  },
  {
   "cell_type": "code",
   "execution_count": null,
   "metadata": {},
   "outputs": [],
   "source": []
  }
 ],
 "metadata": {
  "kernelspec": {
   "name": "python3",
   "display_name": "Python 3.8.5 64-bit ('base': conda)",
   "metadata": {
    "interpreter": {
     "hash": "d1391494e59566b11aeef5c307eab7e3f16f2e6721e685c7e81ff4836412fbcb"
    }
   }
  },
  "language_info": {
   "codemirror_mode": {
    "name": "ipython",
    "version": 3
   },
   "file_extension": ".py",
   "mimetype": "text/x-python",
   "name": "python",
   "nbconvert_exporter": "python",
   "pygments_lexer": "ipython3",
   "version": "3.8.5-final"
  }
 },
 "nbformat": 4,
 "nbformat_minor": 4
}