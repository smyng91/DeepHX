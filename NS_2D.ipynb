{
 "cells": [
  {
   "cell_type": "code",
   "execution_count": 1,
   "metadata": {},
   "outputs": [
    {
     "name": "stdout",
     "output_type": "stream",
     "text": [
      "---------------------- SCIANN 0.6.0.4 ---------------------- \n",
      "For details, check out our review paper and the documentation at: \n",
      " +  \"https://arxiv.org/abs/2005.08803\", \n",
      " +  \"https://www.sciann.com\". \n",
      "\n"
     ]
    }
   ],
   "source": [
    "import numpy as np \n",
    "import sciann as sn \n",
    "import matplotlib.pyplot as plt \n",
    "import scipy.io\n",
    "\n",
    "from numpy import pi\n",
    "from sciann.utils.math import diff, sign, sin\n",
    "\n"
   ]
  },
  {
   "cell_type": "code",
   "execution_count": 2,
   "metadata": {},
   "outputs": [
    {
     "name": "stdout",
     "output_type": "stream",
     "text": [
      "\n",
      "Epoch 00997: ReduceLROnPlateau reducing learning rate to 0.0010000000474974513.\n",
      "\n",
      "Epoch 03256: ReduceLROnPlateau reducing learning rate to 0.0005000000237487257.\n"
     ]
    },
    {
     "name": "stderr",
     "output_type": "stream",
     "text": [
      "/apps/local/anaconda/Anaconda3-2020.11/envs/tensorflow-2.4-horovod-cuda-11.2/lib/python3.7/site-packages/ipykernel_launcher.py:26: MatplotlibDeprecationWarning: shading='flat' when X and Y have the same dimensions as C is deprecated since 3.3.  Either specify the corners of the quadrilaterals with X and Y, or pass shading='auto', 'nearest' or 'gouraud', or set rcParams['pcolor.shading'].  This will become an error two minor releases later.\n"
     ]
    },
    {
     "data": {
      "text/plain": [
       "<matplotlib.colorbar.Colorbar at 0x7f651b7e7310>"
      ]
     },
     "execution_count": 2,
     "metadata": {},
     "output_type": "execute_result"
    },
    {
     "data": {
      "image/png": "[encoded data removed]",
      "text/plain": [
       "<Figure size 216x288 with 2 Axes>"
      ]
     },
     "metadata": {
      "needs_background": "light"
     },
     "output_type": "display_data"
    }
   ],
   "source": [
    "\n",
    "x = sn.Variable('x')\n",
    "t = sn.Variable('t')\n",
    "u = sn.Functional('u', [t,x], 8*[20], 'tanh')\n",
    "\n",
    "L1 = diff(u, t) + u*diff(u,x) - (0.01/pi)*diff(u, x, order=2)\n",
    "TOL = 0.001\n",
    "C1 = (1-sign(t - TOL)) * (u + sin(pi*x))\n",
    "C2 = (1-sign(x - (-1+TOL))) * (u)\n",
    "C3 = (1+sign(x - ( 1-TOL))) * (u)\n",
    "m = sn.SciModel([x, t], [L1, C1, C2, C3])\n",
    "\n",
    "x_data, t_data = np.meshgrid(\n",
    "    np.linspace(-1, 1, 100), \n",
    "    np.linspace(0, 1, 100)\n",
    ")\n",
    "\n",
    "h = m.train([x_data, t_data], 4*['zero'], learning_rate=0.002, epochs=5000, verbose=0)\n",
    "\n",
    "x_test, t_test = np.meshgrid(\n",
    "    np.linspace(-1, 1, 200), \n",
    "    np.linspace(0, 1, 200)\n",
    ")\n",
    "u_pred = u.eval(m, [x_test, t_test])\n",
    "\n",
    "fig = plt.figure(figsize=(3, 4))\n",
    "plt.pcolor(x_test, t_test, u_pred, cmap='seismic')\n",
    "plt.xlabel('x')\n",
    "plt.ylabel('t')\n",
    "plt.colorbar()"
   ]
  },
  {
   "cell_type": "code",
   "execution_count": null,
   "metadata": {},
   "outputs": [],
   "source": []
  }
 ],
 "metadata": {
  "kernelspec": {
   "display_name": "Tensorflow 2.4 Horovod Cuda 11.2",
   "language": "python",
   "name": "tensorflow-2.4-horovod-cuda-11.2"
  },
  "language_info": {
   "codemirror_mode": {
    "name": "ipython",
    "version": 3
   },
   "file_extension": ".py",
   "mimetype": "text/x-python",
   "name": "python",
   "nbconvert_exporter": "python",
   "pygments_lexer": "ipython3",
   "version": "3.7.9"
  }
 },
 "nbformat": 4,
 "nbformat_minor": 4
}
